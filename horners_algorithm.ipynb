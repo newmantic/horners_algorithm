{
  "nbformat": 4,
  "nbformat_minor": 0,
  "metadata": {
    "colab": {
      "provenance": [],
      "authorship_tag": "ABX9TyPOB8+Lip9C2yKDKRIDAoEG",
      "include_colab_link": true
    },
    "kernelspec": {
      "name": "python3",
      "display_name": "Python 3"
    },
    "language_info": {
      "name": "python"
    }
  },
  "cells": [
    {
      "cell_type": "markdown",
      "metadata": {
        "id": "view-in-github",
        "colab_type": "text"
      },
      "source": [
        "<a href=\"https://colab.research.google.com/github/newmantic/horners_algorithm/blob/main/horners_algorithm.ipynb\" target=\"_parent\"><img src=\"https://colab.research.google.com/assets/colab-badge.svg\" alt=\"Open In Colab\"/></a>"
      ]
    },
    {
      "cell_type": "code",
      "execution_count": 1,
      "metadata": {
        "id": "0B9JDFjFxgim"
      },
      "outputs": [],
      "source": [
        "def horners_algorithm(coefficients, x):\n",
        "    \"\"\"\n",
        "    Evaluate a polynomial at a given point x using Horner's algorithm.\n",
        "\n",
        "    Parameters:\n",
        "    coefficients (list): List of coefficients of the polynomial, starting from the highest degree.\n",
        "    x (float): The point at which to evaluate the polynomial.\n",
        "\n",
        "    Returns:\n",
        "    float: The value of the polynomial at x.\n",
        "    \"\"\"\n",
        "    result = coefficients[0]\n",
        "    for coeff in coefficients[1:]:\n",
        "        result = result * x + coeff\n",
        "    return result"
      ]
    },
    {
      "cell_type": "code",
      "source": [
        "# Example polynomial: P(x) = 2x^3 - 6x^2 + 2x - 1\n",
        "coefficients = [2, -6, 2, -1]\n",
        "x_value = 3\n",
        "\n",
        "# Evaluate using Horner's algorithm\n",
        "result_horner = horners_algorithm(coefficients, x_value)\n",
        "print(f\"Result using Horner's algorithm: {result_horner}\")\n",
        "\n",
        "# Direct evaluation for comparison\n",
        "result_direct = 2 * (x_value**3) - 6 * (x_value**2) + 2 * x_value - 1\n",
        "print(f\"Result using direct evaluation: {result_direct}\")\n",
        "\n",
        "# Additional advanced test case: Higher-degree polynomial\n",
        "coefficients_advanced = [1, 0, -2, 4, -3, 5, -6, 2, -8, 10]\n",
        "x_value_advanced = 2\n",
        "\n",
        "result_horner_advanced = horners_algorithm(coefficients_advanced, x_value_advanced)\n",
        "print(f\"Advanced test - Result using Horner's algorithm: {result_horner_advanced}\")"
      ],
      "metadata": {
        "colab": {
          "base_uri": "https://localhost:8080/"
        },
        "id": "4K7VGTaOx-Xi",
        "outputId": "ccb0af21-9644-42cc-806a-4a21b279db02"
      },
      "execution_count": 2,
      "outputs": [
        {
          "output_type": "stream",
          "name": "stdout",
          "text": [
            "Result using Horner's algorithm: 5\n",
            "Result using direct evaluation: 5\n",
            "Advanced test - Result using Horner's algorithm: 450\n"
          ]
        }
      ]
    }
  ]
}